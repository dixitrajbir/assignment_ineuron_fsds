{
 "cells": [
  {
   "cell_type": "markdown",
   "id": "194465d2",
   "metadata": {},
   "source": [
    "Question_1"
   ]
  },
  {
   "cell_type": "code",
   "execution_count": 4,
   "id": "cd86806c",
   "metadata": {},
   "outputs": [
    {
     "data": {
      "text/plain": [
       "14"
      ]
     },
     "execution_count": 4,
     "metadata": {},
     "output_type": "execute_result"
    }
   ],
   "source": [
    "7*2\n",
    "#                 * is a mathematical operator \n",
    "#                 therfore it is a expression    "
   ]
  },
  {
   "cell_type": "code",
   "execution_count": 5,
   "id": "1c19d0d3",
   "metadata": {},
   "outputs": [
    {
     "data": {
      "text/plain": [
       "'hello'"
      ]
     },
     "execution_count": 5,
     "metadata": {},
     "output_type": "execute_result"
    }
   ],
   "source": [
    "'hello'\n",
    "#                 this can be assign to a variables \n",
    "#                 therfore it is a expression "
   ]
  },
  {
   "cell_type": "code",
   "execution_count": 6,
   "id": "f6c7db3f",
   "metadata": {},
   "outputs": [
    {
     "data": {
      "text/plain": [
       "-87.8"
      ]
     },
     "execution_count": 6,
     "metadata": {},
     "output_type": "execute_result"
    }
   ],
   "source": [
    "-87.8\n",
    "#                 this can be assign to a variables \n",
    "#                 therfore it is a expression "
   ]
  },
  {
   "cell_type": "code",
   "execution_count": 7,
   "id": "c4b0a3ef",
   "metadata": {},
   "outputs": [
    {
     "data": {
      "text/plain": [
       "5"
      ]
     },
     "execution_count": 7,
     "metadata": {},
     "output_type": "execute_result"
    }
   ],
   "source": [
    "7-2\n",
    "#                 - is a mathematical operator \n",
    "#                 therfore it is a expression    "
   ]
  },
  {
   "cell_type": "code",
   "execution_count": 8,
   "id": "1656930d",
   "metadata": {},
   "outputs": [
    {
     "data": {
      "text/plain": [
       "3.5"
      ]
     },
     "execution_count": 8,
     "metadata": {},
     "output_type": "execute_result"
    }
   ],
   "source": [
    "7/2\n",
    "#                 / is a mathematical operator \n",
    "#                 therfore it is a expression    "
   ]
  },
  {
   "cell_type": "code",
   "execution_count": 9,
   "id": "86d5daf2",
   "metadata": {},
   "outputs": [
    {
     "data": {
      "text/plain": [
       "9"
      ]
     },
     "execution_count": 9,
     "metadata": {},
     "output_type": "execute_result"
    }
   ],
   "source": [
    "7 +  2\n",
    "#                 + is a mathematical operator \n",
    "#                 therfore it is a expression    "
   ]
  },
  {
   "cell_type": "code",
   "execution_count": 11,
   "id": "0c5895d5",
   "metadata": {},
   "outputs": [
    {
     "data": {
      "text/plain": [
       "6"
      ]
     },
     "execution_count": 11,
     "metadata": {},
     "output_type": "execute_result"
    }
   ],
   "source": [
    "6\n",
    "#                 this can be assign to a variables \n",
    "#                 therfore it is a expression "
   ]
  },
  {
   "cell_type": "markdown",
   "id": "11eb4694",
   "metadata": {},
   "source": [
    "# question_2\n",
    "what is different between string and variable?"
   ]
  },
  {
   "cell_type": "code",
   "execution_count": 12,
   "id": "1eda1082",
   "metadata": {},
   "outputs": [],
   "source": [
    "                     # Strings is a data type\n",
    "# for a sequence of characters (e.g. ‘’zaldnQfYJSMfwp”).\n",
    "# In addition to letters, they can also include numbers, spaces, punctuation, and even line breaks (using ‘\\n’ for new line).\n",
    "# Strings can not be used for calculation (even if your string is just a number like ‘5’), you would have to convert it to a number data type first to perform math operations on it.\n",
    "\n",
    "\n",
    "                          # Variables\n",
    "# Variables are references that you create to refer to other values in your program later.\n",
    "# An example of a value you might reference using a variable could be:\n",
    "\n",
    "# “This is a really long string that no-one wants to have to re-type, ever, because it’s so laborious and frustrating to have to type out, it would be great to have a quick reference for this big, long string.”"
   ]
  },
  {
   "cell_type": "code",
   "execution_count": null,
   "id": "e35af66c",
   "metadata": {},
   "outputs": [],
   "source": []
  },
  {
   "cell_type": "markdown",
   "id": "b428fc2b",
   "metadata": {},
   "source": [
    "# question_3\n",
    "Describe three different data types."
   ]
  },
  {
   "cell_type": "code",
   "execution_count": 13,
   "id": "8ec21e64",
   "metadata": {},
   "outputs": [],
   "source": [
    "                      # Strings \n",
    "# A String is a sequence of Unicode characters. In Python, String is called str. Strings are represented by using Double quotes or single quotes.\n",
    "                      #  Set  \n",
    "# The Collection of Unique items that are not in order is called Set. Braces {} are used to defined set and a comma is used to separate values. One will find that the items are unordered in a set data type.\n",
    "                      #   List\n",
    "# An ordered sequence of items is called List.\n",
    "# It is a very flexible data type in Python.\n",
    "# There is no need for the value in the list to be of the same data type.\n",
    "# The List is the data type that is highly used data type in Python.\n",
    "# List datatype is the most exclusive datatype in Python for containing versatile data.\n",
    "# It can easily hold different types of data in Python. "
   ]
  },
  {
   "cell_type": "markdown",
   "id": "d4f86b3a",
   "metadata": {},
   "source": [
    "# question_4\n",
    "What is an expression made up of? What do all expressions do?"
   ]
  },
  {
   "cell_type": "code",
   "execution_count": 14,
   "id": "93b3e3e1",
   "metadata": {},
   "outputs": [],
   "source": [
    "# An expression is a combination of operators and operands that is interpreted to produce some other value.\n",
    "# In any programming language, an expression is evaluated as per the precedence of its operators.\n",
    "# So that if there is more than one operator in an expression, their precedence decides which operation will be performed first.\n",
    "# We have many different types of expressions in Python"
   ]
  },
  {
   "cell_type": "markdown",
   "id": "59430011",
   "metadata": {},
   "source": [
    "# question_5\n",
    "This assignment statements, like spam = 10. What is the difference between an\n",
    "expression and a statement?"
   ]
  },
  {
   "cell_type": "code",
   "execution_count": 15,
   "id": "d483e129",
   "metadata": {},
   "outputs": [],
   "source": [
    "# spam = 10\n",
    "# assignment is to assign a value to an variable(spam) in this = does not perform any operation  on it.\n",
    "# and \n",
    "# expression are donr for performing operation "
   ]
  },
  {
   "cell_type": "markdown",
   "id": "dcebb9c9",
   "metadata": {},
   "source": [
    "# question_6\n",
    "After running the following code, what does the variable bacon contain?\n",
    "bacon = 22\n",
    "bacon + 1"
   ]
  },
  {
   "cell_type": "code",
   "execution_count": 17,
   "id": "e5aecb4c",
   "metadata": {},
   "outputs": [
    {
     "data": {
      "text/plain": [
       "22"
      ]
     },
     "execution_count": 17,
     "metadata": {},
     "output_type": "execute_result"
    }
   ],
   "source": [
    "bacon = 22\n",
    "bacon + 1\n",
    "bacon\n",
    "# it will not change "
   ]
  },
  {
   "cell_type": "markdown",
   "id": "df7ce3e6",
   "metadata": {},
   "source": [
    "# question_7\n",
    "\n"
   ]
  },
  {
   "cell_type": "code",
   "execution_count": 18,
   "id": "8caccc84",
   "metadata": {},
   "outputs": [
    {
     "data": {
      "text/plain": [
       "'spamspamspam'"
      ]
     },
     "execution_count": 18,
     "metadata": {},
     "output_type": "execute_result"
    }
   ],
   "source": [
    "'spam' + 'spamspam'\n"
   ]
  },
  {
   "cell_type": "code",
   "execution_count": 19,
   "id": "bf633b4c",
   "metadata": {},
   "outputs": [
    {
     "data": {
      "text/plain": [
       "'spamspamspam'"
      ]
     },
     "execution_count": 19,
     "metadata": {},
     "output_type": "execute_result"
    }
   ],
   "source": [
    "'spam'*3"
   ]
  },
  {
   "cell_type": "code",
   "execution_count": 20,
   "id": "e584ca42",
   "metadata": {},
   "outputs": [],
   "source": [
    "# it will be same"
   ]
  },
  {
   "cell_type": "markdown",
   "id": "2e1b62c5",
   "metadata": {},
   "source": [
    "# question_8\n",
    "Why is eggs a valid variable name while 100 is invalid?\n"
   ]
  },
  {
   "cell_type": "code",
   "execution_count": 21,
   "id": "0b66aae5",
   "metadata": {},
   "outputs": [],
   "source": [
    "# eggs is valid because it is staring with a charector(alphabet)\n",
    "# 100 is not because it is starting with number"
   ]
  },
  {
   "cell_type": "markdown",
   "id": "f5cfad80",
   "metadata": {},
   "source": [
    "# question_9\n",
    "What three functions can be used to get the integer, floating-point number, or string\n",
    "version of a value?"
   ]
  },
  {
   "cell_type": "code",
   "execution_count": 22,
   "id": "143c67d4",
   "metadata": {},
   "outputs": [],
   "source": [
    "# str(), int(), float()"
   ]
  },
  {
   "cell_type": "markdown",
   "id": "64a8f1e7",
   "metadata": {},
   "source": [
    "# question_10\n",
    "Why does this expression cause an error? How can you fix it?\n",
    "\n",
    "'I have eaten' + 99 + 'burritos' "
   ]
  },
  {
   "cell_type": "code",
   "execution_count": null,
   "id": "e14b23e3",
   "metadata": {},
   "outputs": [],
   "source": [
    "# because 99 is an integer it cannot be concatenated with strings, if we have to concatenate it we need to do typecasting."
   ]
  }
 ],
 "metadata": {
  "kernelspec": {
   "display_name": "Python 3",
   "language": "python",
   "name": "python3"
  },
  "language_info": {
   "codemirror_mode": {
    "name": "ipython",
    "version": 3
   },
   "file_extension": ".py",
   "mimetype": "text/x-python",
   "name": "python",
   "nbconvert_exporter": "python",
   "pygments_lexer": "ipython3",
   "version": "3.8.8"
  }
 },
 "nbformat": 4,
 "nbformat_minor": 5
}
