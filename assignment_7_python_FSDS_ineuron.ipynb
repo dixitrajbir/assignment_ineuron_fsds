{
 "cells": [
  {
   "cell_type": "markdown",
   "id": "9081a356",
   "metadata": {},
   "source": [
    "# Assignment_7"
   ]
  },
  {
   "cell_type": "markdown",
   "id": "8fae2597",
   "metadata": {},
   "source": [
    "# 1. What is the name of the feature responsible for generating Regex objects?"
   ]
  },
  {
   "cell_type": "markdown",
   "id": "6feb8ba9",
   "metadata": {},
   "source": [
    "The re.compile() function returns Regex objects."
   ]
  },
  {
   "cell_type": "markdown",
   "id": "49eca815",
   "metadata": {},
   "source": [
    "# 2. Why do raw strings often appear in Regex objects?"
   ]
  },
  {
   "cell_type": "markdown",
   "id": "45ffc279",
   "metadata": {},
   "source": [
    "Raw strings are used so that backslashes do not have to be escaped."
   ]
  },
  {
   "cell_type": "markdown",
   "id": "494a1617",
   "metadata": {},
   "source": [
    "# 3. What is the return value of the search() method?"
   ]
  },
  {
   "cell_type": "markdown",
   "id": "cc84df25",
   "metadata": {},
   "source": [
    "The search() method returns Match objects."
   ]
  },
  {
   "cell_type": "markdown",
   "id": "1fb6824d",
   "metadata": {},
   "source": [
    "# 4. From a Match item, how do you get the actual strings that match the pattern?"
   ]
  },
  {
   "cell_type": "markdown",
   "id": "92f8062b",
   "metadata": {},
   "source": [
    "The group() method returns strings of the matched text."
   ]
  },
  {
   "cell_type": "markdown",
   "id": "2e5f2222",
   "metadata": {},
   "source": [
    "# 5. In the regex which created from the r'(\\d\\d\\d)-(\\d\\d\\d-\\d\\d\\d\\d)', what does group zero cover? Group 2? Group 1?"
   ]
  },
  {
   "cell_type": "markdown",
   "id": "d0df6d25",
   "metadata": {},
   "source": [
    "Group 0 is the entire match, group 1 covers the first set of parentheses, and group 2 covers the second set of parentheses."
   ]
  },
  {
   "cell_type": "markdown",
   "id": "348c153e",
   "metadata": {},
   "source": [
    "# 6. In standard expression syntax, parentheses and intervals have distinct meanings. How can you tell a regex that you want it to fit real parentheses and periods?"
   ]
  },
  {
   "cell_type": "markdown",
   "id": "3cd0672e",
   "metadata": {},
   "source": [
    "Periods and parentheses can be escaped with a backslash: ., (, and )."
   ]
  },
  {
   "cell_type": "markdown",
   "id": "24f11d98",
   "metadata": {},
   "source": [
    "# 7. The findall() method returns a string list or a list of string tuples. What causes it to return one of the two options?"
   ]
  },
  {
   "cell_type": "markdown",
   "id": "209a5c98",
   "metadata": {},
   "source": [
    "If the regex has no groups, a list of strings is returned. If the regex has groups, a list of tuples of strings is returned."
   ]
  },
  {
   "cell_type": "markdown",
   "id": "b5ff4ca5",
   "metadata": {},
   "source": [
    "# 8. In standard expressions, what does the | character mean?"
   ]
  },
  {
   "cell_type": "markdown",
   "id": "27fd182b",
   "metadata": {},
   "source": [
    "The | character signifies matching “either, or” between two groups."
   ]
  },
  {
   "cell_type": "markdown",
   "id": "1e9367c4",
   "metadata": {},
   "source": [
    "# 9. In regular expressions, what does the character stand for?"
   ]
  },
  {
   "cell_type": "markdown",
   "id": "e1167176",
   "metadata": {},
   "source": [
    "The ? character can either mean “match zero or one of the preceding group” or be used to signify nongreedy matching."
   ]
  },
  {
   "cell_type": "markdown",
   "id": "dc85508c",
   "metadata": {},
   "source": [
    "# 10.In regular expressions, what is the difference between the + and * characters?"
   ]
  },
  {
   "cell_type": "markdown",
   "id": "ee029ffb",
   "metadata": {},
   "source": [
    "The + matches one or more. The * matches zero or more."
   ]
  },
  {
   "cell_type": "markdown",
   "id": "6fb1f7f4",
   "metadata": {},
   "source": [
    "# 11. What is the difference between {4} and {4,5} in regular expression?\n"
   ]
  },
  {
   "cell_type": "markdown",
   "id": "450662e4",
   "metadata": {},
   "source": [
    "The {4} matches exactly four instances of the preceding group. The {4,5} matches between four and five instances."
   ]
  },
  {
   "cell_type": "markdown",
   "id": "dad7bb3e",
   "metadata": {},
   "source": [
    "# 12. What do you mean by the \\d, \\w, and \\s shorthand character classes signify in regular expressions?"
   ]
  },
  {
   "cell_type": "markdown",
   "id": "7f0c15db",
   "metadata": {},
   "source": [
    "The \\d, \\w, and \\s shorthand character classes match a single digit, word, or space character, respectively."
   ]
  },
  {
   "cell_type": "markdown",
   "id": "0f1a2e02",
   "metadata": {},
   "source": [
    "# 13. What do means by \\D, \\W, and \\S shorthand character classes signify in regular expressions?"
   ]
  },
  {
   "cell_type": "markdown",
   "id": "1e21db7c",
   "metadata": {},
   "source": [
    "The \\D, \\W, and \\S shorthand character classes match a single character that is not a digit, word, or space character, respectively."
   ]
  },
  {
   "cell_type": "markdown",
   "id": "04441f0b",
   "metadata": {},
   "source": [
    "# 14. What is the difference between .? and .?"
   ]
  },
  {
   "cell_type": "markdown",
   "id": "6b638ed7",
   "metadata": {},
   "source": [
    "The . performs a greedy match, and the .? performs a nongreedy match.\n",
    "\n"
   ]
  },
  {
   "cell_type": "markdown",
   "id": "766859d4",
   "metadata": {},
   "source": [
    "# 15. What is the syntax for matching both numbers and lowercase letters with a character class?"
   ]
  },
  {
   "cell_type": "markdown",
   "id": "f7ed8fbe",
   "metadata": {},
   "source": [
    "Either [0-9a-z] or [a-z0-9]"
   ]
  },
  {
   "cell_type": "markdown",
   "id": "3136752f",
   "metadata": {},
   "source": [
    "# 16. What is the procedure for making a normal expression in regax case insensitive?"
   ]
  },
  {
   "cell_type": "markdown",
   "id": "f488cdcc",
   "metadata": {},
   "source": [
    "Passing re.I or re.IGNORECASE as the second argument to re.compile() will make the matching case insensitive."
   ]
  },
  {
   "cell_type": "markdown",
   "id": "cbb0d3be",
   "metadata": {},
   "source": [
    "# 17. What does the . character normally match? What does it match if re.DOTALL is passed as 2nd argument in re.compile()?"
   ]
  },
  {
   "cell_type": "markdown",
   "id": "b0473b22",
   "metadata": {},
   "source": [
    "The . character normally matches any character except the newline character. If re.DOTALL is passed as the second argument to re.compile(), then the dot will also match newline characters.\n",
    "\n"
   ]
  },
  {
   "cell_type": "markdown",
   "id": "a9607166",
   "metadata": {},
   "source": [
    "# 18. If numReg = re.compile(r'\\d+'), what will numRegex.sub('X', '11 drummers, 10 pipers, five rings, 4 hen') return?"
   ]
  },
  {
   "cell_type": "markdown",
   "id": "ae547a6a",
   "metadata": {},
   "source": [
    "'X drummers, X pipers, five rings, X hens'"
   ]
  },
  {
   "cell_type": "markdown",
   "id": "3c890532",
   "metadata": {},
   "source": [
    "# 19. What does passing re.VERBOSE as the 2nd argument to re.compile() allow to do?"
   ]
  },
  {
   "cell_type": "markdown",
   "id": "ffdc9c48",
   "metadata": {},
   "source": [
    "The re.VERBOSE argument allows you to add whitespace and comments to the string passed to re.compile()."
   ]
  },
  {
   "cell_type": "markdown",
   "id": "bc9dc0e8",
   "metadata": {},
   "source": [
    "# 20. How would you write a regex that match a number with comma for every three digits? It must match the given following:"
   ]
  },
  {
   "cell_type": "markdown",
   "id": "8cd85c43",
   "metadata": {},
   "source": [
    "'42' '1,234' '6,368,745' but not the following: '12,34,567' (which has only two digits between the commas) '1234' (which lacks commas)\n",
    "\n",
    "Answer:-re.compile(r'^\\d{1,3}(,\\d{3})*$') will create this regex, but other regex strings can produce a similar regular expression."
   ]
  },
  {
   "cell_type": "markdown",
   "id": "46ed033d",
   "metadata": {},
   "source": [
    "# 21. How would you write a regex that matches the full name of someone whose last name is Watanabe? You can assume that the first name that comes before it will always be one word that begins with a capital letter. The regex must match the following:"
   ]
  },
  {
   "cell_type": "markdown",
   "id": "cde8eaca",
   "metadata": {},
   "source": [
    "'Haruto Watanabe' 'Alice Watanabe' 'RoboCop Watanabe' but not the following: 'haruto Watanabe' (where the first name is not capitalized) 'Mr. Watanabe' (where the preceding word has a nonletter character) 'Watanabe' (which has no first name) 'Haruto watanabe' (where Watanabe is not capitalized)\n",
    "\n",
    "Answer:- re.compile(r'\\s([A-Z]\\w+)\\s(Watanabe)')"
   ]
  },
  {
   "cell_type": "markdown",
   "id": "402b2b38",
   "metadata": {},
   "source": [
    "# 22. How would you write a regex that matches a sentence where the first word is either Alice, Bob, or Carol; the second word is either eats, pets, or throws; the third word is apples, cats, or baseballs; and the sentence ends with a period? This regex should be case-insensitive. It must match the following:"
   ]
  },
  {
   "cell_type": "markdown",
   "id": "4eb1cd66",
   "metadata": {},
   "source": [
    "'Alice eats apples.' 'Bob pets cats.' 'Carol throws baseballs.' 'Alice throws Apples.' 'BOB EATS CATS.' but not the following: 'RoboCop eats apples.' 'ALICE THROWS FOOTBALLS.' 'Carol eats 7 cats.'\n",
    "\n",
    "Answer:- re.compile(r'(Alice|Bob|Carol)\\s(eats|pets|throws)\\s(apples|cats|baseballs).', re.IGNORECASE)"
   ]
  },
  {
   "cell_type": "code",
   "execution_count": null,
   "id": "c19b0985",
   "metadata": {},
   "outputs": [],
   "source": []
  }
 ],
 "metadata": {
  "kernelspec": {
   "display_name": "Python 3",
   "language": "python",
   "name": "python3"
  },
  "language_info": {
   "codemirror_mode": {
    "name": "ipython",
    "version": 3
   },
   "file_extension": ".py",
   "mimetype": "text/x-python",
   "name": "python",
   "nbconvert_exporter": "python",
   "pygments_lexer": "ipython3",
   "version": "3.8.8"
  }
 },
 "nbformat": 4,
 "nbformat_minor": 5
}
