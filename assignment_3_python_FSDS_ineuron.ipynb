{
 "cells": [
  {
   "cell_type": "markdown",
   "id": "e23cb034",
   "metadata": {},
   "source": [
    "# 1. Why are functions advantageous to have in your programs?\n",
    "Functions reduce the need for duplicate code. This makes programs shorter, easier to read, and easier to update."
   ]
  },
  {
   "cell_type": "markdown",
   "id": "456a5f81",
   "metadata": {},
   "source": []
  },
  {
   "cell_type": "markdown",
   "id": "07bc477f",
   "metadata": {},
   "source": [
    "# 2. When does the code in a function run: when it's specified or when it's called?\n",
    "The code in a function executes when the function is called, not when the function is defined."
   ]
  },
  {
   "cell_type": "markdown",
   "id": "b7152fd2",
   "metadata": {},
   "source": []
  },
  {
   "cell_type": "markdown",
   "id": "7cf3c03e",
   "metadata": {},
   "source": [
    "# 3. What statement creates a function?\n",
    "The def statement defines (that is, creates) a function."
   ]
  },
  {
   "cell_type": "code",
   "execution_count": null,
   "id": "fa9af04a",
   "metadata": {},
   "outputs": [],
   "source": []
  },
  {
   "cell_type": "markdown",
   "id": "6960a804",
   "metadata": {},
   "source": [
    "# 4. What is the difference between a function and a function call?\n",
    "A function consists of the def statement and the code in its def clause.\n",
    "\n",
    "A function call is what moves the program execution into the function, and the function call evaluates to the function’s return value."
   ]
  },
  {
   "cell_type": "code",
   "execution_count": null,
   "id": "6217b1d9",
   "metadata": {},
   "outputs": [],
   "source": []
  },
  {
   "cell_type": "markdown",
   "id": "d9dda159",
   "metadata": {},
   "source": [
    "# 5. How many global scopes are there in a Python program? How many local scopes?\n",
    "There is one global scope, and a local scope is created whenever a function is called"
   ]
  },
  {
   "cell_type": "code",
   "execution_count": null,
   "id": "30f11696",
   "metadata": {},
   "outputs": [],
   "source": []
  },
  {
   "cell_type": "markdown",
   "id": "7f035bd9",
   "metadata": {},
   "source": [
    "# 6. What happens to variables in a local scope when the function call returns?\n",
    "When a function returns, the local scope is destroyed, and all the variables in it are forgotten."
   ]
  },
  {
   "cell_type": "code",
   "execution_count": null,
   "id": "fb93619f",
   "metadata": {},
   "outputs": [],
   "source": []
  },
  {
   "cell_type": "markdown",
   "id": "058500ad",
   "metadata": {},
   "source": [
    "# 7. What is the concept of a return value? Is it possible to have a return value in an expression?\n",
    "A return value is the value that a function call evaluates to. Like any value, a return value can be used as part of an expression."
   ]
  },
  {
   "cell_type": "code",
   "execution_count": null,
   "id": "7cf9ffb0",
   "metadata": {},
   "outputs": [],
   "source": []
  },
  {
   "cell_type": "markdown",
   "id": "59daf1b6",
   "metadata": {},
   "source": [
    "# 8. If a function does not have a return statement, what is the return value of a call to that function?\n",
    "If there is no return statement for a function, its return value is None."
   ]
  },
  {
   "cell_type": "code",
   "execution_count": null,
   "id": "c38495a9",
   "metadata": {},
   "outputs": [],
   "source": []
  },
  {
   "cell_type": "markdown",
   "id": "baf46328",
   "metadata": {},
   "source": [
    "# 9. How do you make a function variable refer to the global variable?\n",
    "A global statement will force a variable in a function to refer to the global variable."
   ]
  },
  {
   "cell_type": "code",
   "execution_count": null,
   "id": "c6217678",
   "metadata": {},
   "outputs": [],
   "source": []
  },
  {
   "cell_type": "markdown",
   "id": "98d2450b",
   "metadata": {},
   "source": [
    "# 10. What is the data type of None?\n",
    "The data type of None is NoneType."
   ]
  },
  {
   "cell_type": "code",
   "execution_count": null,
   "id": "cb8b57cb",
   "metadata": {},
   "outputs": [],
   "source": []
  },
  {
   "cell_type": "markdown",
   "id": "dbf1417b",
   "metadata": {},
   "source": [
    "# 11. What does the sentence import areallyourpetsnamederic do?\n",
    "That import statement imports a module named areallyourpetsnamederic."
   ]
  },
  {
   "cell_type": "code",
   "execution_count": null,
   "id": "d5e19c13",
   "metadata": {},
   "outputs": [],
   "source": []
  },
  {
   "cell_type": "markdown",
   "id": "ee920f7c",
   "metadata": {},
   "source": [
    "# 12. If you had a bacon() feature in a spam module, what would you call it after importing spam?\n",
    "This function can be called with spam.bacon()."
   ]
  },
  {
   "cell_type": "code",
   "execution_count": null,
   "id": "39445679",
   "metadata": {},
   "outputs": [],
   "source": []
  },
  {
   "cell_type": "markdown",
   "id": "41147816",
   "metadata": {},
   "source": [
    "# 13. What can you do to save a programme from crashing if it encounters an error?\n",
    "Place the line of code that might cause an error in a try clause."
   ]
  },
  {
   "cell_type": "code",
   "execution_count": null,
   "id": "9e91fadd",
   "metadata": {},
   "outputs": [],
   "source": []
  },
  {
   "cell_type": "markdown",
   "id": "b024a9c4",
   "metadata": {},
   "source": [
    "# 14. What is the purpose of the try clause? What is the purpose of the except clause?\n",
    "The code that could potentially cause an error goes in the try clause.\n",
    "\n",
    "The code that executes if an error happens goes in the except clause."
   ]
  },
  {
   "cell_type": "code",
   "execution_count": null,
   "id": "7a17f0c0",
   "metadata": {},
   "outputs": [],
   "source": []
  }
 ],
 "metadata": {
  "kernelspec": {
   "display_name": "Python 3",
   "language": "python",
   "name": "python3"
  },
  "language_info": {
   "codemirror_mode": {
    "name": "ipython",
    "version": 3
   },
   "file_extension": ".py",
   "mimetype": "text/x-python",
   "name": "python",
   "nbconvert_exporter": "python",
   "pygments_lexer": "ipython3",
   "version": "3.8.8"
  }
 },
 "nbformat": 4,
 "nbformat_minor": 5
}
